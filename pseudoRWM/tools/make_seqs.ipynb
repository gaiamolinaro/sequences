{
 "cells": [
  {
   "cell_type": "markdown",
   "metadata": {},
   "source": [
    "# Sequence generation for the pseudoRWM set of experiments"
   ]
  },
  {
   "cell_type": "markdown",
   "metadata": {},
   "source": [
    "## Import statements and utilities"
   ]
  },
  {
   "cell_type": "code",
   "execution_count": 1,
   "metadata": {},
   "outputs": [],
   "source": [
    "import numpy as np\n",
    "import os\n",
    "import matlab.engine\n",
    "from alive_progress import alive_bar\n",
    "import pandas as pd"
   ]
  },
  {
   "cell_type": "code",
   "execution_count": 2,
   "metadata": {},
   "outputs": [],
   "source": [
    "def shuffle_along_axis(arr, axis):\n",
    "    idx = np.random.rand(*arr.shape).argsort(axis=axis)\n",
    "    return np.take_along_axis(arr,idx,axis=axis)\n",
    "\n",
    "def shuffled(arr):\n",
    "    arr_shuffled = arr.copy()\n",
    "    np.random.shuffle(arr_shuffled)\n",
    "    return(arr_shuffled)\n",
    "\n",
    "def choose_n_and_delete(arr, N):\n",
    "    chosen = np.random.choice(arr, size=N, replace=False)\n",
    "    arr = np.delete(arr, np.where(np.isin(arr, chosen)))\n",
    "    return chosen, arr"
   ]
  },
  {
   "cell_type": "markdown",
   "metadata": {},
   "source": [
    "## Settings"
   ]
  },
  {
   "cell_type": "code",
   "execution_count": 3,
   "metadata": {},
   "outputs": [],
   "source": [
    "exp_type = \"pseudoRWMReps\"  # choose from [\"pseudoRWM\", \"pseudoRWMCtrl\", \"pseudoRWMConf\", \"pseudoRWMReps\"]\n",
    "num_conditions = 10 # number of different file sequences to generate (change if needed)\n",
    "reps_dict = {\"pseudoRWM\": 12, \"pseudoRWMCtrl\": 12, \"pseudoRWMConf\": 11, \"pseudoRWMReps\": 11}  # number of repetitions after the first presentation\n",
    "num_reps = reps_dict[exp_type] # number of stimulus repetitions (after first presentation; change if needed)\n",
    "exact_reps =  True if exp_type in [\"pseudoRWMConf\", \"pseudoRWMReps\"] else False  # should the number of repetitions be exact or ok to exceed by 1?\n",
    "use_matlab = True  # use matlab to call createstimsequence?"
   ]
  },
  {
   "cell_type": "markdown",
   "metadata": {},
   "source": [
    "## Start MATLAB if needed"
   ]
  },
  {
   "cell_type": "code",
   "execution_count": 4,
   "metadata": {},
   "outputs": [],
   "source": [
    "if use_matlab:\n",
    "    m = matlab.engine.start_matlab()\n",
    "    m.addpath(m.genpath(\"C:/Gaia/CCN Lab/Utilities/sequences/pseudoRWM/\"), nargout=0)\n",
    "else:\n",
    "    from numpy.matlib import repmat"
   ]
  },
  {
   "cell_type": "markdown",
   "metadata": {},
   "source": [
    "## Main sequence creation function"
   ]
  },
  {
   "cell_type": "code",
   "execution_count": 46,
   "metadata": {},
   "outputs": [],
   "source": [
    "class pseudoRWMSequenceMaker:\n",
    "\n",
    "    def __init__(self, exp_type, num_reps, use_matlab=True, num_conditions=10, exact_reps=False):\n",
    "\n",
    "        # ================ SETTINGS ==========================================================================\n",
    "        assert exp_type in [\"pseudoRWM\", \"pseudoRWMCtrl\", \"pseudoRWMConf\", \"pseudoRWMReps\"], f\"{exp_type} is not a valid exp_type\"\n",
    "        self.exp_type = exp_type\n",
    "        self.num_reps = num_reps\n",
    "        self.num_conditions = num_conditions\n",
    "        self.use_matlab = use_matlab\n",
    "        self.exact_reps = exact_reps\n",
    "        self.to_dir = f\"C:/Gaia/CCN Lab/Utilities/sequences/pseudoRWM/{exp_type}/\"\n",
    "        self.has_group_row = self.exp_type in [\"pseudoRWMConf\", \"pseudoRWMReps\"]\n",
    "\n",
    "        self.num_keys = 3\n",
    "        self.max_stims = 6\n",
    "        self.block_structure = np.array([6, 6, 6, 6, 6, 6]) # 6 blocks: 3*type (Points vs Goals)\n",
    "        self.num_blocks = len(self.block_structure)\n",
    "        self.trial_type_structure = np.arange(self.num_blocks)%2\n",
    "        self.num_goals_blocks = self.num_blocks - np.sum(self.trial_type_structure)\n",
    "        self.num_goals_trials = np.sum(self.block_structure[np.where(self.trial_type_structure==0)])*(self.num_reps+1)\n",
    "\n",
    "        # R: columns represent keyboard keys\n",
    "        # each column says how many stimuli will be associated with that key\n",
    "        # e.g., 1, 2, 3 means 1 stimulus will be associated with key 0, 2, with key 1, 3 with key 2, \n",
    "        # for a total of 6 items\n",
    "        if self.exp_type in [\"pseudoRWM\", \"pseudoRWMCtrl\"]:\n",
    "            self.R = np.vstack((\n",
    "                np.array([1, 2, 3]),\n",
    "                np.array([2, 2, 2]), \n",
    "                np.array([1, 2, 3]),\n",
    "                np.array([2, 2, 2]), \n",
    "                np.array([1, 2, 3]),\n",
    "                np.array([2, 2, 2])\n",
    "            ))\n",
    "        else:\n",
    "            self.R = np.vstack((\n",
    "                np.array([2, 2, 2]), \n",
    "                np.array([2, 2, 2]), \n",
    "                np.array([2, 2, 2]), \n",
    "                np.array([2, 2, 2]), \n",
    "                np.array([2, 2, 2]), \n",
    "                np.array([2, 2, 2])\n",
    "            ))\n",
    "\n",
    "        # goal images  \n",
    "        self.all_fracts = np.arange(1, (self.num_goals_trials*2)+1)  # all fractal image numbers \n",
    "        self.all_ctrl_goal_sets = [[5, 17], [25, 26], [24, 30], [56, 59], [76, 77]]*2 # fractals to use in the Ctrl version includes goal and non-goal\n",
    "\n",
    "\n",
    "    def _get_grouped_goal_sequences(self, all_goal_images, all_nongoal_images, trial_types, blocks, block_groups):\n",
    "        return\n",
    "\n",
    "\n",
    "    def make_sequences(self):\n",
    "        with alive_bar(self.num_conditions, title=f\"Making sequences\", force_tty=True) as bar:\n",
    "            for s_i in range(self.num_conditions):\n",
    "                # ================ BLOCKS ===========================================================================\n",
    "                # blocks: array of length n with each element representing the block's set size\n",
    "                blocks = self.block_structure.copy()\n",
    "\n",
    "                # ================ TRIAL TYPES =======================================================================\n",
    "                # trial_types: array  where each element represent the sequence\n",
    "                # of trial types (1 = Points, 0 = Goals) a participant will experience\n",
    "                trial_types = self.trial_type_structure.copy()\n",
    "                for i in range(0, self.num_blocks//2, 2):\n",
    "                    np.random.shuffle(trial_types[i:i+2]) \n",
    "\n",
    "                # ================ RULES =============================================================================\n",
    "                # block_rules: a list where each element is a dictionary, with keys representing a stimulus and\n",
    "                # values representing the solution for each stimulus\n",
    "                # here we shuffle within rows (only the first three columns), so that it's not always the same keys \n",
    "                # that have 1, 2, or 3 stimuli associated with them (no difference for rows with 2, 2, 2) \n",
    "                R_i = shuffle_along_axis(self.R, axis=1)  # mix up stim/action within the rule\n",
    "                block_rules = []\n",
    "                for block_i in range(self.num_blocks):\n",
    "                    block_rules.append({i: k for i, k in enumerate([key_i for key_i in range(self.num_keys) for _ in range(R_i[block_i, key_i])])})\n",
    "\n",
    "                # ================ STIMULI ===========================================================================\n",
    "                # stim_sets: stimulus sets (folders from where images will be taken for each block)\n",
    "                stim_sets = (np.random.permutation(self.num_blocks)+1)\n",
    "        \n",
    "                # block_stimuli: will contain dictionaries with an image number for each stimulus\n",
    "                block_stimuli = []\n",
    "                for block_i, ns in enumerate(blocks):\n",
    "                    block_stimuli.append({i: s for i, s in enumerate((np.random.permutation(self.max_stims)+1)[0:ns])})\n",
    "\n",
    "                # block_seqprototypes: will contain dictionaries for each participant, with keys representing a set size and\n",
    "                # values as lists with a sequence of stimuli to be presented\n",
    "                # create a prototype (corresponding to stimuli rather than stimulus images) for each set size\n",
    "                block_seqprototypes = []\n",
    "                \n",
    "                # block_sequences: maps block_seqprototypes to corresponding stimulus sequences based on block_stimuli\n",
    "                block_sequences = []\n",
    "                \n",
    "                for block_i, ns in enumerate(blocks):\n",
    "                    criterion_passed = False\n",
    "                    if self.use_matlab:\n",
    "                        while not criterion_passed:\n",
    "                            temp_seqprototype = np.squeeze(np.array(m.createstimsequence(m.double(int(self.num_reps)), m.double(int(ns))))).astype(int)\n",
    "                            # if we want the exact number of repetitions across stimuli, we need to pass this criterion before accepting the sequence\n",
    "                            criterion_passed = np.all(np.unique(temp_seqprototype, return_counts=True)[1]==(self.num_reps+1)) or (not self.exact_reps)\n",
    "                            # print(s_i, block_i, criterion_passed, np.unique(temp_seqprototype, return_counts=True)[1])\n",
    "                        block_seqprototypes.append(temp_seqprototype)\n",
    "                    else:\n",
    "                        # worse (but faster) alternative if createstimsequence doesn't work\n",
    "                        temp_seqprototype = []\n",
    "                        for _ in range(self.num_reps+1):\n",
    "                            temp_seqprototype = np.hstack((temp_seqprototype, (shuffled(np.arange(1, ns+1)))))\n",
    "                        block_seqprototypes.append(temp_seqprototype)\n",
    "                    # turn into stimuli (stimulus image number)\n",
    "                    block_sequences.append(np.vectorize((block_stimuli[block_i]).get)(block_seqprototypes[block_i]-1))\n",
    "\n",
    "                # ================ GROUPS ===========================================================================\n",
    "                # only for some experiments, we divide stimuli into three groups that will receive different treatments \n",
    "                # in terms of goal image presentation\n",
    "                # we need to ensure that stimuli in the same group have different correct keys\n",
    "                # because for these experiments each key is associated with two consecutive stimulus numbers, we can do\n",
    "                # this by making sure stimuli of the same group are associated with stimuli that are one number apart\n",
    "                # we also need to randomize which group is associated with the first, second, or third set of solutions\n",
    "                # block_groups: will contain dictionaries with a group number for each stimulus\n",
    "                block_groups = []\n",
    "                for block_i, ns in enumerate(blocks):\n",
    "                    block_groups.append({i: g for i, g in enumerate(np.tile(np.random.permutation(ns//2), 2))})\n",
    "\n",
    "                # ================ GOAL IMAGES ======================================================================\n",
    "                all_images = shuffled(self.all_fracts)\n",
    "                if self.exp_type == \"pseudoRWM\":\n",
    "                    goal_images = all_images[0:len(all_images)//2] \n",
    "                    nongoal_images = all_images[len(all_images)//2:]\n",
    "\n",
    "                elif self.exp_type == \"pseudoRWMCtrl\":\n",
    "                    goal_set = self.all_ctrl_goal_sets[s_i]\n",
    "                    # counterbalance which image is the goal and which one is the non-goal across participants\n",
    "                    goal_images = np.repeat(goal_set[int(s_i+1 >= self.num_conditions//2)], self.num_goals_trials)\n",
    "                    nongoal_images = np.repeat(goal_set[1-int(s_i+1 >= self.num_conditions//2)], self.num_goals_trials)\n",
    "\n",
    "                elif self.exp_type == \"pseudoRWMConf\":\n",
    "                    all_goal_images = all_images[0:len(all_images)//2] \n",
    "                    all_nongoal_images = all_images[len(all_images)//2:]\n",
    "                    goal_images = np.array([])\n",
    "                    nongoal_images = np.array([])\n",
    "                    # for each block, we need 2 + 2 + 4 sets of goal/nongoal image pairs\n",
    "                    group0_goal_images, all_goal_images = choose_n_and_delete(all_goal_images, (self.num_goals_blocks, 2))\n",
    "                    group1_goal_images, all_goal_images = choose_n_and_delete(all_goal_images, (self.num_goals_blocks, 2))\n",
    "                    group2_goal_images, all_goal_images = choose_n_and_delete(all_goal_images, (self.num_goals_blocks, 4))\n",
    "\n",
    "                    group0_nongoal_images, all_nongoal_images = choose_n_and_delete(all_nongoal_images, (self.num_goals_blocks, 2))\n",
    "                    group1_nongoal_images, all_nongoal_images = choose_n_and_delete(all_nongoal_images, (self.num_goals_blocks, 2))\n",
    "                    group2_nongoal_images, all_nongoal_images = choose_n_and_delete(all_nongoal_images, (self.num_goals_blocks, 4))\n",
    "                    # block_goal_sequences will contain a dictionary for each block where keys are stimuli IDs and values are sequences\n",
    "                    # of goal images for that stimulus\n",
    "                    # for block_i in range(self.num_goals_blocks):\n",
    "                    for goal_block_i, block_i in enumerate(np.where(trial_types==0)[0]):\n",
    "                        ns = blocks[block_i]\n",
    "                        # dictionary for this block where keys are stimuli IDs and values are sequences of goal images for that stimulus\n",
    "                        block_goal_sequence_i = {}\n",
    "                        block_goal_sequence_i = {}\n",
    "                        # dictionary for this block where keys are stimuli IDs and values are sequences of nongoal images for that stimulus\n",
    "                        block_nongoal_sequence_i = {}\n",
    "                        block_nongoal_sequence_i = {}\n",
    "                        \n",
    "                        # form goal and nongoal sequences for each group \n",
    "                        group0_goal_sequences = np.repeat(group0_goal_images[goal_block_i], (self.num_reps+1)//2)\n",
    "                        group1_goal_sequences = np.hstack((\n",
    "                            np.repeat(group1_goal_images[goal_block_i], (self.num_reps+1)//4), \n",
    "                            np.repeat(group1_nongoal_images[goal_block_i], (self.num_reps+1)//4)))\n",
    "                        group2_goal_sequences = np.repeat(group2_goal_images[goal_block_i], (self.num_reps+1)//4)\n",
    "                        \n",
    "                        group0_nongoal_sequences = np.repeat(group0_nongoal_images[goal_block_i], (self.num_reps+1)//2)\n",
    "                        group1_nongoal_sequences = np.hstack((\n",
    "                            np.repeat(group1_nongoal_images[goal_block_i], (self.num_reps+1)//4), \n",
    "                            np.repeat(group1_goal_images[goal_block_i], (self.num_reps+1)//4)))\n",
    "                        group2_nongoal_sequences = np.repeat(group2_nongoal_images[goal_block_i], (self.num_reps+1)//4)\n",
    "\n",
    "                        # shuffle goal and nongoal images consistently for the same stimulus and separately for stimuli of the same group\n",
    "                        first_stim_order = np.random.permutation(self.num_reps+1)\n",
    "                        second_stim_order = np.random.permutation(self.num_reps+1)\n",
    "                        \n",
    "                        # get which stimulus is associated with which group \n",
    "                        group_to_stim_dict = {}\n",
    "                        for key, value in block_groups[block_i].items():\n",
    "                            if value not in group_to_stim_dict:\n",
    "                                group_to_stim_dict[value] = []\n",
    "                            group_to_stim_dict[value].append(key)\n",
    "                        # group_to_stim_dict[0][0] = the first stimulus of the first group, \n",
    "                        # group_to_stim_dict[0][1] = the second stimulus of the first group, etc.\n",
    "                        # create a goal and a nongoal sequence for each block and stimulus\n",
    "                        for g_i, (group_goal_sequence, group_nongoal_sequence) in enumerate(zip(\n",
    "                                [group0_goal_sequences, group1_goal_sequences, group2_goal_sequences], \n",
    "                                [group0_nongoal_sequences, group1_nongoal_sequences, group2_nongoal_sequences])):\n",
    "                            for stim_n, stim_order in enumerate([first_stim_order, second_stim_order]):\n",
    "                                # goal sequences\n",
    "                                block_goal_sequence_i[group_to_stim_dict[g_i][stim_n]] = group_goal_sequence[stim_order]\n",
    "                                # nongoal_sequences\n",
    "                                block_nongoal_sequence_i[group_to_stim_dict[g_i][stim_n]] = group_nongoal_sequence[stim_order]\n",
    "                       \n",
    "                        # create the full goal/nongoal sequences based on where stimuli are located\n",
    "                        tempgoalseq = np.empty((self.num_reps+1)*ns)\n",
    "                        tempnongoalseq = np.empty((self.num_reps+1)*ns)\n",
    "                        for stim_i in range(ns):\n",
    "                            tempgoalseq[(block_seqprototypes[block_i]-1)==stim_i] = block_goal_sequence_i[stim_i]\n",
    "                            tempnongoalseq[(block_seqprototypes[block_i]-1)==stim_i] = block_nongoal_sequence_i[stim_i]\n",
    "                        goal_images = np.hstack((goal_images, tempgoalseq))\n",
    "                        nongoal_images = np.hstack((nongoal_images, tempnongoalseq))\n",
    "\n",
    "                elif self.exp_type == \"pseudoRWMReps\":\n",
    "                    all_goal_images = all_images[0:len(all_images)//2] \n",
    "                    all_nongoal_images = all_images[len(all_images)//2:]\n",
    "                    goal_images = np.array([])\n",
    "                    nongoal_images = np.array([])\n",
    "                    # for each block, we need 2 + 2 + 4 sets of goal/nongoal image pairs\n",
    "                    group0_goal_images, all_goal_images = choose_n_and_delete(all_goal_images, (self.num_goals_blocks, 6))\n",
    "                    group1_goal_images, all_goal_images = choose_n_and_delete(all_goal_images, (self.num_goals_blocks, 10))\n",
    "                    group2_goal_images, all_goal_images = choose_n_and_delete(all_goal_images, (self.num_goals_blocks, 8))\n",
    "\n",
    "                    group0_nongoal_images, all_nongoal_images = choose_n_and_delete(all_nongoal_images, (self.num_goals_blocks, 6))\n",
    "                    group1_nongoal_images, all_nongoal_images = choose_n_and_delete(all_nongoal_images, (self.num_goals_blocks, 10))\n",
    "                    group2_nongoal_images, all_nongoal_images = choose_n_and_delete(all_nongoal_images, (self.num_goals_blocks, 8))\n",
    "                    # block_goal_sequences will contain a dictionary for each block where keys are stimuli IDs and values are sequences\n",
    "                    # of goal images for that stimulus\n",
    "                    # for block_i in range(self.num_goals_blocks):\n",
    "                    for goal_block_i, block_i in enumerate(np.where(trial_types==0)[0]):\n",
    "                        ns = blocks[block_i]\n",
    "                        # dictionary for this block where keys are stimuli IDs and values are sequences of goal images for that stimulus\n",
    "                        block_goal_sequence_i = {}\n",
    "                        block_goal_sequence_i = {}\n",
    "                        # dictionary for this block where keys are stimuli IDs and values are sequences of nongoal images for that stimulus\n",
    "                        block_nongoal_sequence_i = {}\n",
    "                        block_nongoal_sequence_i = {}\n",
    "                        \n",
    "                        # form goal and nongoal sequences for each group \n",
    "                        one_fourth = (self.num_reps+1)//4  # 3 if there are 11(+1) reps\n",
    "                        one_sixth = (self.num_reps+1)//6   # 2 if there are 11(+1) reps\n",
    "                        \n",
    "                        group0_goal_sequences = np.hstack((\n",
    "                            np.repeat(group0_goal_images[goal_block_i][0:one_fourth], one_fourth),\n",
    "                            group0_goal_images[goal_block_i][one_fourth:]))\n",
    "                        group1_goal_sequences = np.hstack((\n",
    "                            np.repeat(group1_goal_images[goal_block_i][0], one_fourth),\n",
    "                            group1_goal_images[goal_block_i][1:]))\n",
    "                        group2_goal_sequences = np.hstack((\n",
    "                            np.repeat(group2_goal_images[goal_block_i][0:one_sixth], one_fourth),\n",
    "                            group2_goal_images[goal_block_i][one_sixth:]))\n",
    "                        \n",
    "                        group0_nongoal_sequences = np.hstack((\n",
    "                            np.repeat(group0_nongoal_images[goal_block_i][0:one_fourth], one_fourth),\n",
    "                            group0_nongoal_images[goal_block_i][one_fourth:]))\n",
    "                        group1_nongoal_sequences = np.hstack((\n",
    "                            np.repeat(group1_nongoal_images[goal_block_i][0], one_fourth),\n",
    "                            group1_nongoal_images[goal_block_i][1:]))\n",
    "                        group2_nongoal_sequences = np.hstack((\n",
    "                            np.repeat(group2_nongoal_images[goal_block_i][0:2], one_fourth),\n",
    "                            group2_nongoal_images[goal_block_i][2:]))\n",
    "\n",
    "                        # shuffle goal and nongoal images consistently for the same stimulus and separately for stimuli of the same group\n",
    "                        first_stim_order = np.random.permutation(self.num_reps+1)\n",
    "                        second_stim_order = np.random.permutation(self.num_reps+1)\n",
    "                        \n",
    "                        # get which stimulus is associated with which group \n",
    "                        group_to_stim_dict = {}\n",
    "                        for key, value in block_groups[block_i].items():\n",
    "                            if value not in group_to_stim_dict:\n",
    "                                group_to_stim_dict[value] = []\n",
    "                            group_to_stim_dict[value].append(key)\n",
    "                        # group_to_stim_dict[0][0] = the first stimulus of the first group, \n",
    "                        # group_to_stim_dict[0][1] = the second stimulus of the first group, etc.\n",
    "                        # create a goal and a nongoal sequence for each block and stimulus\n",
    "                        for g_i, (group_goal_sequence, group_nongoal_sequence) in enumerate(zip(\n",
    "                                [group0_goal_sequences, group1_goal_sequences, group2_goal_sequences], \n",
    "                                [group0_nongoal_sequences, group1_nongoal_sequences, group2_nongoal_sequences])):\n",
    "                            for stim_n, stim_order in enumerate([first_stim_order, second_stim_order]):\n",
    "                                # goal sequences\n",
    "                                block_goal_sequence_i[group_to_stim_dict[g_i][stim_n]] = group_goal_sequence[stim_order]\n",
    "                                # nongoal_sequences\n",
    "                                block_nongoal_sequence_i[group_to_stim_dict[g_i][stim_n]] = group_nongoal_sequence[stim_order]\n",
    "                       \n",
    "                        # create the full goal/nongoal sequences based on where stimuli are located\n",
    "                        tempgoalseq = np.empty((self.num_reps+1)*ns)\n",
    "                        tempnongoalseq = np.empty((self.num_reps+1)*ns)\n",
    "                        for stim_i in range(ns):\n",
    "                            tempgoalseq[(block_seqprototypes[block_i]-1)==stim_i] = block_goal_sequence_i[stim_i]\n",
    "                            tempnongoalseq[(block_seqprototypes[block_i]-1)==stim_i] = block_nongoal_sequence_i[stim_i]\n",
    "\n",
    "                        goal_images = np.hstack((goal_images, tempgoalseq))\n",
    "                        nongoal_images = np.hstack((nongoal_images, tempnongoalseq))\n",
    "\n",
    "                # ================ CSV FILE ==========================================================================\n",
    "                # create csv\n",
    "                # rows: stim, correct key, set size, blocks, img_folders, img_nums, trial_type, goal_img, nongoal_img\n",
    "                goal_stim_count = 0\n",
    "\n",
    "                for block_i, ns in enumerate(blocks):\n",
    "                    block_length = (self.num_reps + 1) * ns  # number of trials in a block\n",
    "                    \n",
    "                    this_block = np.full((9+self.has_group_row, block_length), np.nan)\n",
    "\n",
    "                    _, unique_idx = np.unique(block_sequences[block_i], return_index=True)\n",
    "                    block_cond = trial_types[block_i]\n",
    "                    \n",
    "                    this_block[0] = block_seqprototypes[block_i]  # stimulus number\n",
    "                    this_block[1] = np.vectorize((block_rules[block_i]).get)(block_seqprototypes[block_i]-1) # correct key for the stimulus ID\n",
    "                    this_block[2] = np.repeat(ns, block_length)  # set size\n",
    "                    this_block[3] = np.repeat(block_i+1, block_length)  # block number\n",
    "                    this_block[4] = np.repeat(stim_sets[block_i], block_length)  # image folder\n",
    "                    this_block[5] = block_sequences[block_i]  # stimulus number\n",
    "                    this_block[6] = np.repeat(block_cond, block_length)  # trial type\n",
    "\n",
    "                    if block_cond == 0:\n",
    "                            this_block[7] = goal_images[goal_stim_count:goal_stim_count+block_length]\n",
    "                            this_block[8] = nongoal_images[goal_stim_count:goal_stim_count+block_length]\n",
    "                            goal_stim_count += block_length\n",
    "                    \n",
    "                    if self.has_group_row:\n",
    "                        this_block[9] = np.vectorize((block_groups[block_i]).get)(block_seqprototypes[block_i]-1) # group for the stimulus ID\n",
    "\n",
    "                    if block_i == 0:\n",
    "                        train_seq = this_block\n",
    "                        unique_stims = this_block[:, unique_idx]\n",
    "                    else:\n",
    "                        train_seq = np.column_stack((train_seq, this_block))\n",
    "                        unique_stims = np.column_stack((unique_stims, this_block[:, unique_idx]))\n",
    "\n",
    "                # save output\n",
    "                np.savetxt(f\"{self.to_dir}seq{s_i+1}_learning.csv\", train_seq, delimiter=\",\")\n",
    "                bar()\n",
    "\n",
    "        return "
   ]
  },
  {
   "cell_type": "markdown",
   "metadata": {},
   "source": [
    "## Create sequences"
   ]
  },
  {
   "cell_type": "code",
   "execution_count": 47,
   "metadata": {},
   "outputs": [
    {
     "name": "stdout",
     "output_type": "stream",
     "text": [
      "Making sequences |████████████████████████████████████████| 1/1 [100%] in 0.1s (8.62/s)                                 \n"
     ]
    }
   ],
   "source": [
    "# seqmkr = pseudoRWMSequenceMaker(exp_type=exp_type, num_reps=num_reps, num_conditions=num_conditions, use_matlab=use_matlab, exact_reps=exact_reps)\n",
    "seqmkr = pseudoRWMSequenceMaker(exp_type=exp_type, num_reps=num_reps, num_conditions=1, use_matlab=False, exact_reps=exact_reps)\n",
    "seqmkr.make_sequences()"
   ]
  },
  {
   "cell_type": "markdown",
   "metadata": {},
   "source": [
    "## Checks"
   ]
  },
  {
   "cell_type": "code",
   "execution_count": 48,
   "metadata": {},
   "outputs": [],
   "source": [
    "exp_type = \"pseudoRWMReps\"\n",
    "\n",
    "df = pd.read_csv(f\"{os.path.dirname(os.getcwd())}/{exp_type}/seq1_learning.csv\", header=None).T\n",
    "\n",
    "colnames = [\"stim\", \"correct_key\", \"set_size\", \"block\", \"img_folder\", \"img_num\", \"trial_type\", \"goal_img\", \"nongoal_img\"]\n",
    "if exp_type in [\"pseudoRWMConf\", \"pseudoRWMReps\"]:\n",
    "    colnames += [\"group\"]\n",
    "df.columns = colnames"
   ]
  },
  {
   "cell_type": "code",
   "execution_count": 49,
   "metadata": {},
   "outputs": [
    {
     "data": {
      "text/plain": [
       "block  group\n",
       "1.0    0.0              [239.0, 20.0, 284.0, 306.0, 392.0, 149.0]\n",
       "       1.0      [418.0, 294.0, 95.0, 90.0, 383.0, 412.0, 367.0...\n",
       "       2.0      [318.0, 134.0, 240.0, 25.0, 370.0, 241.0, 400....\n",
       "2.0    0.0                                                  [nan]\n",
       "       1.0                                                  [nan]\n",
       "       2.0                                                  [nan]\n",
       "3.0    0.0                                                  [nan]\n",
       "       1.0                                                  [nan]\n",
       "       2.0                                                  [nan]\n",
       "4.0    0.0             [143.0, 231.0, 335.0, 102.0, 349.0, 250.0]\n",
       "       1.0      [362.0, 388.0, 401.0, 281.0, 60.0, 330.0, 377....\n",
       "       2.0      [234.0, 414.0, 373.0, 135.0, 228.0, 263.0, 415...\n",
       "5.0    0.0               [365.0, 101.0, 103.0, 98.0, 381.0, 82.0]\n",
       "       1.0      [70.0, 343.0, 416.0, 235.0, 80.0, 207.0, 302.0...\n",
       "       2.0      [337.0, 18.0, 261.0, 399.0, 36.0, 431.0, 124.0...\n",
       "6.0    0.0                                                  [nan]\n",
       "       1.0                                                  [nan]\n",
       "       2.0                                                  [nan]\n",
       "Name: goal_img, dtype: object"
      ]
     },
     "execution_count": 49,
     "metadata": {},
     "output_type": "execute_result"
    }
   ],
   "source": [
    "df.groupby([\"block\", \"group\"]).goal_img.unique()"
   ]
  },
  {
   "cell_type": "code",
   "execution_count": 50,
   "metadata": {},
   "outputs": [
    {
     "data": {
      "text/plain": [
       "block\n",
       "1.0    24\n",
       "2.0     1\n",
       "3.0     1\n",
       "4.0    24\n",
       "5.0    24\n",
       "6.0     1\n",
       "Name: goal_img, dtype: int64"
      ]
     },
     "execution_count": 50,
     "metadata": {},
     "output_type": "execute_result"
    }
   ],
   "source": [
    "df.groupby([\"block\"]).goal_img.apply(lambda x: len(np.unique(x)))"
   ]
  },
  {
   "cell_type": "code",
   "execution_count": 51,
   "metadata": {},
   "outputs": [
    {
     "data": {
      "text/plain": [
       "block\n",
       "1.0    [2, 2, 2, 2, 2, 2, 2, 2, 6, 2, 6, 2, 2, 6, 2, ...\n",
       "2.0                                                 [72]\n",
       "3.0                                                 [72]\n",
       "4.0    [2, 2, 2, 2, 2, 2, 6, 2, 6, 6, 2, 2, 6, 2, 6, ...\n",
       "5.0    [2, 6, 2, 2, 2, 2, 2, 6, 2, 6, 2, 2, 2, 2, 2, ...\n",
       "6.0                                                 [72]\n",
       "Name: goal_img, dtype: object"
      ]
     },
     "execution_count": 51,
     "metadata": {},
     "output_type": "execute_result"
    }
   ],
   "source": [
    "df.groupby([\"block\"]).goal_img.apply(lambda x: np.unique(x, return_counts=True)[1])"
   ]
  },
  {
   "cell_type": "code",
   "execution_count": 53,
   "metadata": {},
   "outputs": [
    {
     "data": {
      "text/plain": [
       "block  stim\n",
       "1.0    1.0                 [1, 1, 1, 3, 3, 3]\n",
       "       2.0     [1, 1, 1, 1, 1, 1, 1, 1, 1, 3]\n",
       "       3.0           [1, 1, 1, 1, 1, 1, 3, 3]\n",
       "       4.0                 [1, 1, 1, 3, 3, 3]\n",
       "       5.0     [1, 1, 1, 1, 1, 1, 1, 1, 1, 3]\n",
       "       6.0           [1, 1, 1, 1, 1, 1, 3, 3]\n",
       "2.0    1.0                               [12]\n",
       "       2.0                               [12]\n",
       "       3.0                               [12]\n",
       "       4.0                               [12]\n",
       "       5.0                               [12]\n",
       "       6.0                               [12]\n",
       "3.0    1.0                               [12]\n",
       "       2.0                               [12]\n",
       "       3.0                               [12]\n",
       "       4.0                               [12]\n",
       "       5.0                               [12]\n",
       "       6.0                               [12]\n",
       "4.0    1.0     [1, 1, 1, 1, 1, 1, 1, 1, 1, 3]\n",
       "       2.0           [1, 1, 1, 1, 1, 1, 3, 3]\n",
       "       3.0                 [1, 1, 1, 3, 3, 3]\n",
       "       4.0     [1, 1, 1, 1, 1, 1, 1, 1, 1, 3]\n",
       "       5.0           [1, 1, 1, 1, 1, 1, 3, 3]\n",
       "       6.0                 [1, 1, 1, 3, 3, 3]\n",
       "5.0    1.0                 [1, 1, 1, 3, 3, 3]\n",
       "       2.0           [1, 1, 1, 1, 1, 1, 3, 3]\n",
       "       3.0     [1, 1, 1, 1, 1, 1, 1, 1, 1, 3]\n",
       "       4.0                 [1, 1, 1, 3, 3, 3]\n",
       "       5.0           [1, 1, 1, 1, 1, 1, 3, 3]\n",
       "       6.0     [1, 1, 1, 1, 1, 1, 1, 1, 1, 3]\n",
       "6.0    1.0                               [12]\n",
       "       2.0                               [12]\n",
       "       3.0                               [12]\n",
       "       4.0                               [12]\n",
       "       5.0                               [12]\n",
       "       6.0                               [12]\n",
       "Name: goal_img, dtype: object"
      ]
     },
     "execution_count": 53,
     "metadata": {},
     "output_type": "execute_result"
    }
   ],
   "source": [
    "df.groupby([\"block\", \"stim\"]).goal_img.apply(lambda x: np.sort(np.unique(x, return_counts=True)[1]))"
   ]
  },
  {
   "cell_type": "code",
   "execution_count": 55,
   "metadata": {},
   "outputs": [
    {
     "data": {
      "text/plain": [
       "block  group\n",
       "1.0    0.0                  [2, 2, 2, 6, 6, 6]\n",
       "       1.0      [2, 2, 2, 2, 2, 2, 2, 2, 2, 6]\n",
       "       2.0            [2, 2, 2, 2, 2, 2, 6, 6]\n",
       "2.0    0.0                                [24]\n",
       "       1.0                                [24]\n",
       "       2.0                                [24]\n",
       "3.0    0.0                                [24]\n",
       "       1.0                                [24]\n",
       "       2.0                                [24]\n",
       "4.0    0.0                  [2, 2, 2, 6, 6, 6]\n",
       "       1.0      [2, 2, 2, 2, 2, 2, 2, 2, 2, 6]\n",
       "       2.0            [2, 2, 2, 2, 2, 2, 6, 6]\n",
       "5.0    0.0                  [2, 2, 2, 6, 6, 6]\n",
       "       1.0      [2, 2, 2, 2, 2, 2, 2, 2, 2, 6]\n",
       "       2.0            [2, 2, 2, 2, 2, 2, 6, 6]\n",
       "6.0    0.0                                [24]\n",
       "       1.0                                [24]\n",
       "       2.0                                [24]\n",
       "Name: goal_img, dtype: object"
      ]
     },
     "execution_count": 55,
     "metadata": {},
     "output_type": "execute_result"
    }
   ],
   "source": [
    "df.groupby([\"block\", \"group\"]).goal_img.apply(lambda x: np.sort(np.unique(x, return_counts=True)[1]))"
   ]
  },
  {
   "cell_type": "code",
   "execution_count": 56,
   "metadata": {},
   "outputs": [
    {
     "data": {
      "text/plain": [
       "block  group\n",
       "1.0    0.0       6\n",
       "       1.0      10\n",
       "       2.0       8\n",
       "2.0    0.0       1\n",
       "       1.0       1\n",
       "       2.0       1\n",
       "3.0    0.0       1\n",
       "       1.0       1\n",
       "       2.0       1\n",
       "4.0    0.0       6\n",
       "       1.0      10\n",
       "       2.0       8\n",
       "5.0    0.0       6\n",
       "       1.0      10\n",
       "       2.0       8\n",
       "6.0    0.0       1\n",
       "       1.0       1\n",
       "       2.0       1\n",
       "Name: goal_img, dtype: int64"
      ]
     },
     "execution_count": 56,
     "metadata": {},
     "output_type": "execute_result"
    }
   ],
   "source": [
    "df.groupby([\"block\", \"group\"]).goal_img.apply(lambda x: len(np.unique(x)))"
   ]
  },
  {
   "cell_type": "code",
   "execution_count": 26,
   "metadata": {},
   "outputs": [
    {
     "data": {
      "text/plain": [
       "block  goal_img\n",
       "2.0    2.0         2\n",
       "       4.0         2\n",
       "       65.0        2\n",
       "       98.0        2\n",
       "       135.0       2\n",
       "       148.0       2\n",
       "       183.0       2\n",
       "       194.0       2\n",
       "       195.0       2\n",
       "       210.0       2\n",
       "       221.0       2\n",
       "       230.0       2\n",
       "       232.0       2\n",
       "       239.0       2\n",
       "       288.0       2\n",
       "       292.0       2\n",
       "       301.0       2\n",
       "       375.0       2\n",
       "       377.0       2\n",
       "       416.0       2\n",
       "4.0    60.0        2\n",
       "       100.0       2\n",
       "       125.0       2\n",
       "       177.0       2\n",
       "       178.0       2\n",
       "       188.0       2\n",
       "       192.0       2\n",
       "       233.0       2\n",
       "       234.0       2\n",
       "       265.0       2\n",
       "       266.0       2\n",
       "       275.0       2\n",
       "       326.0       2\n",
       "       339.0       2\n",
       "       359.0       2\n",
       "       367.0       2\n",
       "       373.0       2\n",
       "       396.0       2\n",
       "       421.0       2\n",
       "       429.0       2\n",
       "5.0    30.0        2\n",
       "       38.0        2\n",
       "       48.0        2\n",
       "       70.0        2\n",
       "       81.0        2\n",
       "       91.0        2\n",
       "       105.0       2\n",
       "       120.0       2\n",
       "       131.0       2\n",
       "       224.0       2\n",
       "       225.0       2\n",
       "       228.0       2\n",
       "       247.0       2\n",
       "       251.0       2\n",
       "       256.0       2\n",
       "       304.0       2\n",
       "       349.0       2\n",
       "       360.0       2\n",
       "       371.0       2\n",
       "       394.0       2\n",
       "Name: stim, dtype: int64"
      ]
     },
     "execution_count": 26,
     "metadata": {},
     "output_type": "execute_result"
    }
   ],
   "source": [
    "df.groupby([\"block\", \"goal_img\"]).stim.apply(lambda x: len(np.unique(x)))"
   ]
  },
  {
   "cell_type": "code",
   "execution_count": 19,
   "metadata": {},
   "outputs": [],
   "source": [
    "# df.to_csv(\"test_seq.csv\")"
   ]
  },
  {
   "cell_type": "markdown",
   "metadata": {},
   "source": [
    "## Quit MATLAB if needed"
   ]
  },
  {
   "cell_type": "code",
   "execution_count": 15,
   "metadata": {},
   "outputs": [],
   "source": [
    "# quit matlab\n",
    "if use_matlab:\n",
    "    m.exit()"
   ]
  }
 ],
 "metadata": {
  "kernelspec": {
   "display_name": "Python 3",
   "language": "python",
   "name": "python3"
  },
  "language_info": {
   "codemirror_mode": {
    "name": "ipython",
    "version": 3
   },
   "file_extension": ".py",
   "mimetype": "text/x-python",
   "name": "python",
   "nbconvert_exporter": "python",
   "pygments_lexer": "ipython3",
   "version": "3.9.12"
  },
  "orig_nbformat": 4
 },
 "nbformat": 4,
 "nbformat_minor": 2
}
