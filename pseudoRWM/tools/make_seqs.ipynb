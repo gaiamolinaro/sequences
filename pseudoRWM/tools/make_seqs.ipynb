{
 "cells": [
  {
   "cell_type": "markdown",
   "metadata": {},
   "source": [
    "# Sequence generation for the pseudoRWM set of experiments"
   ]
  },
  {
   "cell_type": "markdown",
   "metadata": {},
   "source": [
    "## Import statements and utilities"
   ]
  },
  {
   "cell_type": "code",
   "execution_count": null,
   "metadata": {},
   "outputs": [],
   "source": [
    "import numpy as np\n",
    "import matlab.engine"
   ]
  },
  {
   "cell_type": "code",
   "execution_count": null,
   "metadata": {},
   "outputs": [],
   "source": [
    "use_matlab = True  # use matlab to call createstimsequence?\n",
    "if use_matlab:\n",
    "    m = matlab.engine.start_matlab()\n",
    "    m.addpath(m.genpath(\"C:/Gaia/CCN Lab/Utilities/sequences/pseudoRWM/\"), nargout=0)\n",
    "else:\n",
    "    from numpy.matlib import repmat\n",
    "\n",
    "def shuffle_along_axis(arr, axis):\n",
    "    idx = np.random.rand(*arr.shape).argsort(axis=axis)\n",
    "    return np.take_along_axis(arr,idx,axis=axis)\n",
    "\n",
    "def shuffled(arr):\n",
    "    arr_shuffled = arr.copy()\n",
    "    np.random.shuffle(arr_shuffled)\n",
    "    return(arr_shuffled)\n",
    "\n",
    "def choose_n_and_delete(arr, N):\n",
    "    chosen = np.random.choice(arr, size=N, replace=False)\n",
    "    arr = np.delete(arr, np.where(np.isin(arr, chosen)))\n",
    "    return chosen, arr"
   ]
  },
  {
   "cell_type": "code",
   "execution_count": 50,
   "metadata": {},
   "outputs": [
    {
     "data": {
      "text/plain": [
       "(array([[9, 3, 4],\n",
       "        [5, 2, 7]]),\n",
       " array([0, 1, 6, 8]))"
      ]
     },
     "execution_count": 50,
     "metadata": {},
     "output_type": "execute_result"
    }
   ],
   "source": [
    "choose_n_and_delete(arr, (2, 3))"
   ]
  },
  {
   "cell_type": "markdown",
   "metadata": {},
   "source": [
    "## Settings"
   ]
  },
  {
   "cell_type": "code",
   "execution_count": null,
   "metadata": {},
   "outputs": [],
   "source": [
    "exp_type = \"pseudoRWM\"  # choose from [\"pseudoRWM\", \"pseudoRWMCtrl\", \"pseudoRWMConf\", \"pseudoRWMReps\"]\n",
    "num_conditions = 10 # number of different file sequences to generate (change if needed)\n",
    "\n",
    "reps_dict = {\"pseudoRWM\": 12, \"pseudoRWMCtrl\": 12, \"pseudoRWMConf\": 11, \"pseudoRWMReps\": 11}  # number of repetitions after the first presentation\n",
    "exact_reps =  True if exp_type in [\"pseudoRWMConf\", \"pseudoRWMReps\"] else False  # should the number of repetitions be exact or ok to exceed by 1?\n",
    "reps = reps_dict[exp_type] # number of stimulus repetitions (after first presentation; change if needed)"
   ]
  },
  {
   "cell_type": "markdown",
   "metadata": {},
   "source": [
    "## Main sequence creation function"
   ]
  },
  {
   "cell_type": "code",
   "execution_count": 95,
   "metadata": {},
   "outputs": [
    {
     "name": "stdout",
     "output_type": "stream",
     "text": [
      "True\n",
      "{1: array([188, 358, 358, 188, 358, 188, 188, 358, 188, 188, 358, 358]), 4: array([358, 188, 188, 188, 358, 358, 358, 358, 188, 188, 188, 358]), 0: array([ 90, 382, 382, 150, 312,  90, 150, 382, 150,  90, 312, 312]), 3: array([312,  90, 150, 150, 382, 382, 312, 382, 150,  90,  90, 312]), 2: array([ 88, 269, 269, 286,  32,  88, 286, 269, 286,  88,  32,  32]), 5: array([ 32,  88, 286, 286, 269, 269,  32, 269, 286,  88,  88,  32])}\n",
      "{1: array([188, 358, 358, 188, 358, 188, 188, 358, 188, 188, 358, 358]), 4: array([358, 188, 188, 188, 358, 358, 358, 358, 188, 188, 188, 358]), 0: array([ 90, 382, 382, 150, 312,  90, 150, 382, 150,  90, 312, 312]), 3: array([312,  90, 150, 150, 382, 382, 312, 382, 150,  90,  90, 312]), 2: array([ 88, 269, 269, 286,  32,  88, 286, 269, 286,  88,  32,  32]), 5: array([ 32,  88, 286, 286, 269, 269,  32, 269, 286,  88,  88,  32])}\n",
      "True\n",
      "{2: array([171, 378, 378, 171, 171, 171, 378, 378, 378, 171, 171, 378]), 5: array([378, 171, 378, 171, 171, 171, 378, 171, 378, 171, 378, 378]), 0: array([ 70, 224, 431, 367,  70, 367, 431, 224, 431, 367,  70, 224]), 3: array([224, 367, 431,  70, 367,  70, 224, 367, 431,  70, 431, 224]), 1: array([169, 149, 246,  22, 169,  22, 246, 149, 246,  22, 169, 149]), 4: array([149,  22, 246, 169,  22, 169, 149,  22, 246, 169, 246, 149])}\n",
      "{2: array([171, 378, 378, 171, 171, 171, 378, 378, 378, 171, 171, 378]), 5: array([378, 171, 378, 171, 171, 171, 378, 171, 378, 171, 378, 378]), 0: array([ 70, 224, 431, 367,  70, 367, 431, 224, 431, 367,  70, 224]), 3: array([224, 367, 431,  70, 367,  70, 224, 367, 431,  70, 431, 224]), 1: array([169, 149, 246,  22, 169,  22, 246, 149, 246,  22, 169, 149]), 4: array([149,  22, 246, 169,  22, 169, 149,  22, 246, 169, 246, 149])}\n",
      "True\n",
      "{1: array([ 97,  97,  97,  97, 363,  97, 363,  97, 363, 363, 363, 363]), 4: array([363, 363, 363, 363, 363,  97, 363,  97,  97,  97,  97,  97]), 0: array([160, 160, 314, 314,  10, 314,  10, 160, 290, 290,  10, 290]), 3: array([ 10, 290,  10, 290, 290, 160,  10, 160, 314, 314, 160, 314]), 2: array([245, 245, 334, 334, 217, 334, 217, 245, 263, 263, 217, 263]), 5: array([217, 263, 217, 263, 263, 245, 217, 245, 334, 334, 245, 334])}\n",
      "{1: array([ 97,  97,  97,  97, 363,  97, 363,  97, 363, 363, 363, 363]), 4: array([363, 363, 363, 363, 363,  97, 363,  97,  97,  97,  97,  97]), 0: array([160, 160, 314, 314,  10, 314,  10, 160, 290, 290,  10, 290]), 3: array([ 10, 290,  10, 290, 290, 160,  10, 160, 314, 314, 160, 314]), 2: array([245, 245, 334, 334, 217, 334, 217, 245, 263, 263, 217, 263]), 5: array([217, 263, 217, 263, 263, 245, 217, 245, 334, 334, 245, 334])}\n",
      "True\n",
      "{2: array([149, 112, 149, 112, 149, 149, 112, 112, 112, 112, 149, 149]), 5: array([112, 149, 112, 112, 149, 149, 112, 149, 112, 112, 149, 149]), 0: array([315, 312, 315, 261, 421, 421, 312, 261, 261, 312, 315, 421]), 3: array([261, 421, 261, 261, 315, 421, 312, 421, 312, 312, 315, 315]), 1: array([333, 252, 333,  58, 197, 197, 252,  58,  58, 252, 333, 197]), 4: array([ 58, 197,  58,  58, 333, 197, 252, 197, 252, 252, 333, 333])}\n",
      "{2: array([149, 112, 149, 112, 149, 149, 112, 112, 112, 112, 149, 149]), 5: array([112, 149, 112, 112, 149, 149, 112, 149, 112, 112, 149, 149]), 0: array([315, 312, 315, 261, 421, 421, 312, 261, 261, 312, 315, 421]), 3: array([261, 421, 261, 261, 315, 421, 312, 421, 312, 312, 315, 315]), 1: array([333, 252, 333,  58, 197, 197, 252,  58,  58, 252, 333, 197]), 4: array([ 58, 197,  58,  58, 333, 197, 252, 197, 252, 252, 333, 333])}\n",
      "True\n",
      "{0: array([389, 162, 162, 162, 162, 162, 389, 389, 162, 389, 389, 389]), 3: array([162, 389, 389, 389, 162, 162, 162, 389, 389, 389, 162, 162]), 1: array([168,  85, 274, 274, 274,  85, 263, 263,  85, 263, 168, 168]), 4: array([ 85, 168, 263, 168,  85,  85, 274, 263, 263, 168, 274, 274]), 2: array([419,  15,  43,  43,  43,  15, 375, 375,  15, 375, 419, 419]), 5: array([ 15, 419, 375, 419,  15,  15,  43, 375, 375, 419,  43,  43])}\n",
      "{0: array([389, 162, 162, 162, 162, 162, 389, 389, 162, 389, 389, 389]), 3: array([162, 389, 389, 389, 162, 162, 162, 389, 389, 389, 162, 162]), 1: array([168,  85, 274, 274, 274,  85, 263, 263,  85, 263, 168, 168]), 4: array([ 85, 168, 263, 168,  85,  85, 274, 263, 263, 168, 274, 274]), 2: array([419,  15,  43,  43,  43,  15, 375, 375,  15, 375, 419, 419]), 5: array([ 15, 419, 375, 419,  15,  15,  43, 375, 375, 419,  43,  43])}\n",
      "True\n",
      "{2: array([283, 283, 283, 283,  57,  57,  57, 283,  57,  57,  57, 283]), 5: array([ 57, 283,  57, 283,  57, 283, 283,  57, 283,  57, 283,  57]), 1: array([225, 188, 225, 188, 344, 293, 293, 225, 344, 344, 293, 188]), 4: array([344, 225, 293, 225, 293, 225, 188, 344, 188, 293, 188, 344]), 0: array([241, 250, 241, 250, 113, 388, 388, 241, 113, 113, 388, 250]), 3: array([113, 241, 388, 241, 388, 241, 250, 113, 250, 388, 250, 113])}\n",
      "{2: array([283, 283, 283, 283,  57,  57,  57, 283,  57,  57,  57, 283]), 5: array([ 57, 283,  57, 283,  57, 283, 283,  57, 283,  57, 283,  57]), 1: array([225, 188, 225, 188, 344, 293, 293, 225, 344, 344, 293, 188]), 4: array([344, 225, 293, 225, 293, 225, 188, 344, 188, 293, 188, 344]), 0: array([241, 250, 241, 250, 113, 388, 388, 241, 113, 113, 388, 250]), 3: array([113, 241, 388, 241, 388, 241, 250, 113, 250, 388, 250, 113])}\n"
     ]
    }
   ],
   "source": [
    "class pseudoRWMSequenceMaker:\n",
    "\n",
    "    def __init__(self, exp_type, num_reps, use_matlab=True, num_conditions=10, exact_reps=False):\n",
    "\n",
    "        # ================ SETTINGS ==========================================================================\n",
    "        assert exp_type in [\"pseudoRWM\", \"pseudoRWMCtrl\", \"pseudoRWMConf\", \"pseudoRWMReps\"], f\"{exp_type} is not a valid exp_type\"\n",
    "        self.exp_type = exp_type\n",
    "        self.num_reps = num_reps\n",
    "        self.num_conditions = num_conditions\n",
    "        self.use_matlab = use_matlab\n",
    "        self.exact_reps = exact_reps\n",
    "        self.to_dir = f\"C:/Gaia/CCN Lab/Utilities/sequences/pseudoRWM/{exp_type}/\"\n",
    "        self.has_group_row = self.exp_type in [\"pseudoRWMConf\", \"pseudoRWMReps\"]\n",
    "\n",
    "        self.num_keys = 3\n",
    "        self.max_stims = 6\n",
    "        self.block_structure = np.array([6, 6, 6, 6, 6, 6]) # 6 blocks: 3*type (Points vs Goals)\n",
    "        self.num_blocks = len(self.block_structure)\n",
    "        self.trial_type_structure = np.arange(self.num_blocks)%2\n",
    "        self.num_goals_blocks = np.sum(self.trial_type_structure)\n",
    "        self.num_goals_trials = np.sum(self.block_structure[np.where(self.trial_type_structure)])*(self.num_reps+1)\n",
    "\n",
    "        # R: columns represent keyboard keys\n",
    "        # each column says how many stimuli will be associated with that key\n",
    "        # e.g., 1, 2, 3 means 1 stimulus will be associated with key 0, 2, with key 1, 3 with key 2, \n",
    "        # for a total of 6 items\n",
    "        if self.exp_type in [\"pseudoRWM\", \"pseudoRWMCtrl\"]:\n",
    "            self.R = np.vstack((\n",
    "                np.array([1, 2, 3]),\n",
    "                np.array([2, 2, 2]), \n",
    "                np.array([1, 2, 3]),\n",
    "                np.array([2, 2, 2]), \n",
    "                np.array([1, 2, 3]),\n",
    "                np.array([2, 2, 2])\n",
    "            ))\n",
    "        else:\n",
    "            self.R = np.vstack((\n",
    "                np.array([2, 2, 2]), \n",
    "                np.array([2, 2, 2]), \n",
    "                np.array([2, 2, 2]), \n",
    "                np.array([2, 2, 2]), \n",
    "                np.array([2, 2, 2]), \n",
    "                np.array([2, 2, 2])\n",
    "            ))\n",
    "\n",
    "        # goal images  \n",
    "        self.all_fracts = np.arange(1, (self.num_goals_trials*2)+1)  # all fractal image numbers \n",
    "        self.all_ctrl_goal_sets = [[5, 17], [25, 26], [24, 30], [56, 59], [76, 77]]*2 # fractals to use in the Ctrl version includes goal and non-goal\n",
    "\n",
    "    def make_sequences(self):\n",
    "        for s_i in range(self.num_conditions):\n",
    "            # ================ BLOCKS ===========================================================================\n",
    "            # blocks: array of length n with each element representing the block's set size\n",
    "            blocks = self.block_structure.copy()\n",
    "\n",
    "            # ================ TRIAL TYPES =======================================================================\n",
    "            # trial_types: array  where each element represent the sequence\n",
    "            # of trial types (1 = Points, 0 = Goals) a participant will experience\n",
    "            trial_types = self.trial_type_structure.copy()\n",
    "            for i in range(0, self.num_blocks//2, 2):\n",
    "                np.random.shuffle(trial_types[i:i+2]) \n",
    "\n",
    "            # ================ RULES =============================================================================\n",
    "            # block_rules: a list where each element is a dictionary, with keys representing a stimulus and\n",
    "            # values representing the solution for each stimulus\n",
    "            # here we shuffle within rows (only the first three columns), so that it's not always the same keys \n",
    "            # that have 1, 2, or 3 stimuli associated with them (no difference for rows with 2, 2, 2) \n",
    "            R_i = shuffle_along_axis(self.R, axis=1)  # mix up stim/action within the rule\n",
    "            block_rules = []\n",
    "            for block_i in range(self.num_blocks):\n",
    "                block_rules.append({i: k for i, k in enumerate([key_i for key_i in range(self.num_keys) for _ in range(R_i[block_i, key_i])])})\n",
    "\n",
    "            # ================ STIMULI ===========================================================================\n",
    "            # stim_sets: stimulus sets (folders from where images will be taken for each block)\n",
    "            stim_sets = (np.random.permutation(self.num_blocks)+1)\n",
    "        \n",
    "            # block_stimuli: will contain dictionaries with an image number for each stimulus\n",
    "            block_stimuli = []\n",
    "            for block_i, ns in enumerate(blocks):\n",
    "                block_stimuli.append({i: s for i, s in enumerate((np.random.permutation(self.max_stims)+1)[0:ns])})\n",
    "\n",
    "            # block_seqprototypes: will contain dictionaries for each participant, with keys representing a set size and\n",
    "            # values as lists with a sequence of stimuli to be presented\n",
    "            # create a prototype (corresponding to stimuli rather than stimulus images) for each set size\n",
    "            block_seqprototypes = []\n",
    "            \n",
    "            # block_sequences: maps block_seqprototypes to corresponding stimulus sequences based on block_stimuli\n",
    "            block_sequences = []\n",
    "            \n",
    "            for block_i, ns in enumerate(blocks):\n",
    "                criterion_passed = False\n",
    "                if self.use_matlab:\n",
    "                    while not criterion_passed:\n",
    "                        temp_seqprototype = np.squeeze(np.array(m.createstimsequence(m.double(int(self.num_reps)), m.double(int(ns))))).astype(int)\n",
    "                        # if we want the exact number of repetitions across stimuli, we need to pass this criterion before accepting the sequence\n",
    "                        criterion_passed = np.all(np.unique(temp_seqprototype, return_counts=True)[1]==(self.num_reps+1)) or (not self.exact_reps)\n",
    "                    block_seqprototypes.append(temp_seqprototype)\n",
    "                else:\n",
    "                    # worse (but faster) alternative if createstimsequence doesn't work\n",
    "                    temp_seqprototype = []\n",
    "                    for _ in range(self.num_reps+1):\n",
    "                        temp_seqprototype = np.hstack((temp_seqprototype, (shuffled(np.arange(1, ns+1)))))\n",
    "                    block_seqprototypes.append(temp_seqprototype)\n",
    "                # turn into stimuli (stimulus image number)\n",
    "                block_sequences.append(np.vectorize((block_stimuli[block_i]).get)(block_seqprototypes[block_i]-1))\n",
    "\n",
    "            # ================ GROUPS ===========================================================================\n",
    "            # only for some experiments, we divide stimuli into three groups that will receive different treatments \n",
    "            # in terms of goal image presentation\n",
    "            # we need to ensure that stimuli in the same group have different correct keys\n",
    "            # because for these experiments each key is associated with two consecutive stimulus numbers, we can do\n",
    "            # this by making sure stimuli of the same group are associated with stimuli that are one number apart\n",
    "            # we also need to randomize which group is associated with the first, second, or third set of solutions\n",
    "            # block_groups: will contain dictionaries with a group number for each stimulus\n",
    "            block_groups = []\n",
    "            for block_i, ns in enumerate(blocks):\n",
    "                block_groups.append({i: g for i, g in enumerate(np.tile(np.random.permutation(ns//2), 2))})\n",
    "\n",
    "            # ================ GOAL IMAGES ======================================================================\n",
    "            all_images = shuffled(self.all_fracts)\n",
    "            if self.exp_type == \"pseudoRWM\":\n",
    "                goal_images = all_images[0:len(all_images)//2] \n",
    "                nongoal_images = all_images[len(all_images)//2:]\n",
    "\n",
    "            elif self.exp_type == \"pseudoRWMCtrl\":\n",
    "                goal_set = self.all_ctrl_goal_sets[s_i]\n",
    "                # counterbalance which image is the goal and which one is the non-goal across participants\n",
    "                goal_images = np.repeat(goal_set[int(s_i+1 >= self.num_conditions//2)], self.num_goals_trials)\n",
    "                nongoal_images = np.repeat(goal_set[1-int(s_i+1 >= self.num_conditions//2)], self.num_goals_trials)\n",
    "\n",
    "            elif self.exp_type == \"pseudoRWMConf\":\n",
    "                all_goal_images = all_images[0:len(all_images)//2] \n",
    "                all_nongoal_images = all_images[len(all_images)//2:]\n",
    "                goal_images = np.array([])\n",
    "                nongoal_images = np.array([])\n",
    "                # for each block, we need 2 + 2 + 4 sets of goal/nongoal image pairs\n",
    "                group0_goal_images, all_goal_images = choose_n_and_delete(all_goal_images, (self.num_goals_blocks, 2))\n",
    "                group1_goal_images, all_goal_images = choose_n_and_delete(all_goal_images, (self.num_goals_blocks, 2))\n",
    "                group2_goal_images, all_goal_images = choose_n_and_delete(all_goal_images, (self.num_goals_blocks, 4))\n",
    "\n",
    "                group0_nongoal_images, all_nongoal_images = choose_n_and_delete(all_nongoal_images, (self.num_goals_blocks, 2))\n",
    "                group1_nongoal_images, all_nongoal_images = choose_n_and_delete(all_nongoal_images, (self.num_goals_blocks, 2))\n",
    "                group2_nongoal_images, all_nongoal_images = choose_n_and_delete(all_nongoal_images, (self.num_goals_blocks, 4))\n",
    "                # block_goal_sequences will contain a dictionary for each block where keys are stimuli IDs and values are sequences\n",
    "                # of goal images for that stimulus\n",
    "                block_goal_sequences = []\n",
    "                block_nongoal_sequences = []\n",
    "                for block_i in range(self.num_goals_blocks):\n",
    "                    ns = blocks[block_i]\n",
    "                    # dictionary for this block where keys are stimuli IDs and values are sequences of goal images for that stimulus\n",
    "                    block_goal_sequence_i = {}\n",
    "                    block_goal_sequence_i = {}\n",
    "                    # dictionary for this block where keys are stimuli IDs and values are sequences of nongoal images for that stimulus\n",
    "                    block_nongoal_sequence_i = {}\n",
    "                    block_nongoal_sequence_i = {}\n",
    "                    \n",
    "                    # form goal and nongoal sequences for each group \n",
    "                    group0_goal_sequences = np.repeat(group0_goal_images[block_i], (self.num_reps+1)//2)\n",
    "                    group1_goal_sequences = np.hstack((\n",
    "                        np.repeat(group1_goal_images[block_i], (self.num_reps+1)//4), \n",
    "                        np.repeat(group1_nongoal_images[block_i], (self.num_reps+1)//4)))\n",
    "                    group2_goal_sequences = np.repeat(group2_goal_images[block_i], (self.num_reps+1)//4)\n",
    "                    \n",
    "                    group0_nongoal_sequences = np.repeat(group0_nongoal_images[block_i], (self.num_reps+1)//2)\n",
    "                    group1_nongoal_sequences = np.hstack((\n",
    "                        np.repeat(group1_nongoal_images[block_i], (self.num_reps+1)//4), \n",
    "                        np.repeat(group1_goal_images[block_i], (self.num_reps+1)//4)))\n",
    "                    group2_nongoal_sequences = np.repeat(group2_nongoal_images[block_i], (self.num_reps+1)//4)\n",
    "\n",
    "                    # shuffle goal and nongoal images consistently for the same stimulus and separately for stimuli of the same group\n",
    "                    first_stim_order = np.random.permutation(self.num_reps+1)\n",
    "                    second_stim_order = np.random.permutation(self.num_reps+1)\n",
    "                    \n",
    "                    # get which stimulus is associated with which group \n",
    "                    group_to_stim_dict = {}\n",
    "                    for key, value in block_groups[block_i].items():\n",
    "                        if value not in group_to_stim_dict:\n",
    "                            group_to_stim_dict[value] = []\n",
    "                        group_to_stim_dict[value].append(key)\n",
    "                    # group_to_stim_dict[0][0] = the first stimulus of the first group, \n",
    "                    # group_to_stim_dict[0][1] = the second stimulus of the first group, etc.\n",
    "                    # create a goal and a nongoal sequence for each block and stimulus\n",
    "                    for g_i, (group_goal_sequence, group_nongoal_sequence) in enumerate(zip(\n",
    "                            [group0_goal_sequences, group1_goal_sequences, group2_goal_sequences], \n",
    "                            [group0_nongoal_sequences, group1_nongoal_sequences, group2_nongoal_sequences])):\n",
    "                        for stim_n, stim_order in enumerate([first_stim_order, second_stim_order]):\n",
    "                            # goal sequences\n",
    "                            block_goal_sequence_i[group_to_stim_dict[g_i][stim_n]] = group_goal_sequence[stim_order]\n",
    "                            # nongoal_sequences\n",
    "                            block_nongoal_sequence_i[group_to_stim_dict[g_i][stim_n]] = group_nongoal_sequence[stim_order]\n",
    "\n",
    "                    # create the full goal/nongoal sequences based on where stimuli are located\n",
    "                    tempgoalseq = np.empty((self.num_reps+1)*ns)\n",
    "                    tempnongoalseq = np.empty((self.num_reps+1)*ns)\n",
    "                    for stim_i in range(ns):\n",
    "                        tempgoalseq[(block_seqprototypes[block_i]-1)==stim_i] = block_goal_sequence_i[stim_i]\n",
    "                        tempnongoalseq[(block_seqprototypes[block_i]-1)==stim_i] = block_nongoal_sequence_i[stim_i]\n",
    "                    goal_images = np.hstack((goal_images, tempgoalseq))\n",
    "                    nongoal_images = np.hstack((nongoal_images, tempnongoalseq))\n",
    "\n",
    "\n",
    "            elif self.exp_type == \"pseudoRWMReps\":\n",
    "                all_goal_images = all_images[0:len(all_images)//2] \n",
    "                all_nongoal_images = all_images[len(all_images)//2:]\n",
    "\n",
    "            # print(block_groups)\n",
    "\n",
    "            # ================ CSV FILE ==========================================================================\n",
    "            # create csv\n",
    "            # rows: stim, correct key, set size, blocks, img_folders, img_nums, trial_type, goal_img, nongoal_img\n",
    "            goal_stim_count = 0\n",
    "\n",
    "            for block_i, ns in enumerate(blocks):\n",
    "                block_length = (self.num_reps + 1) * ns  # number of trials in a block\n",
    "                \n",
    "                this_block = np.full((9+self.has_group_row, block_length), np.nan)\n",
    "\n",
    "                _, unique_idx = np.unique(block_sequences[block_i], return_index=True)\n",
    "                block_cond = trial_types[block_i]\n",
    "                \n",
    "                this_block[0] = block_seqprototypes[block_i]  # stimulus number\n",
    "                this_block[1] = np.vectorize((block_rules[block_i]).get)(block_seqprototypes[block_i]-1) # correct key for the stimulus ID\n",
    "                this_block[2] = np.repeat(ns, block_length)  # set size\n",
    "                this_block[3] = np.repeat(block_i+1, block_length)  # block number\n",
    "                this_block[4] = np.repeat(stim_sets[block_i], block_length)  # image folder\n",
    "                this_block[5] = block_sequences[block_i]  # stimulus number\n",
    "                this_block[6] = np.repeat(block_cond, block_length)  # trial type\n",
    "\n",
    "                if block_cond == 0:\n",
    "                    if self.exp_type in [\"pseudoRWM\", \"pseudoRWMCtrl\", \"pseudoRWMConf\"]:\n",
    "                        this_block[7] = goal_images[goal_stim_count:goal_stim_count+block_length]\n",
    "                        this_block[8] = nongoal_images[goal_stim_count:goal_stim_count+block_length]\n",
    "                    else:\n",
    "                        pass\n",
    "                    goal_stim_count += block_length\n",
    "                \n",
    "                if self.has_group_row:\n",
    "                    this_block[9] = np.vectorize((block_groups[block_i]).get)(block_seqprototypes[block_i]-1) # group for the stimulus ID\n",
    "\n",
    "                if block_i == 0:\n",
    "                    train_seq = this_block\n",
    "                    unique_stims = this_block[:, unique_idx]\n",
    "                else:\n",
    "                    train_seq = np.column_stack((train_seq, this_block))\n",
    "                    unique_stims = np.column_stack((unique_stims, this_block[:, unique_idx]))\n",
    "        \n",
    "        # np.savetxt(f\"{self.to_dir}seq{s_i+1}_learning.csv\", train_seq, delimiter=\",\")\n",
    "\n",
    "seqmkr = pseudoRWMSequenceMaker(\"pseudoRWMConf\", num_reps=11, num_conditions=2, use_matlab=False, exact_reps=True)\n",
    "seqmkr.make_sequences()"
   ]
  },
  {
   "cell_type": "code",
   "execution_count": 86,
   "metadata": {},
   "outputs": [
    {
     "data": {
      "text/plain": [
       "[0, 2, 4]"
      ]
     },
     "execution_count": 86,
     "metadata": {},
     "output_type": "execute_result"
    }
   ],
   "source": [
    "sorted([0, 2, 4])"
   ]
  },
  {
   "cell_type": "code",
   "execution_count": 91,
   "metadata": {},
   "outputs": [],
   "source": [
    "def compare_dicts(dict1, dict2):\n",
    "    # Check if the keys are the same\n",
    "    if sorted(dict1.keys()) != sorted(dict2.keys()):\n",
    "        return False\n",
    "    \n",
    "    # Check if the values are the same for each key\n",
    "    for key in dict1:\n",
    "        if np.any(dict1[key] != dict2[key]):\n",
    "            return False\n",
    "    \n",
    "    return True"
   ]
  },
  {
   "cell_type": "code",
   "execution_count": 66,
   "metadata": {},
   "outputs": [
    {
     "data": {
      "text/plain": [
       "array([ 43,  66,  39,  90, 102,  18,  45,  93])"
      ]
     },
     "execution_count": 66,
     "metadata": {},
     "output_type": "execute_result"
    }
   ],
   "source": [
    "my_dictionary = {0: np.array([43, 90, 102, 18]), 1: np.array([66, 39, 45, 93])}\n",
    "arr = np.array([0, 1, 1, 0, 0, 0, 1, 1])\n",
    "# [43, 66, 39, 90, 102, 18, 93]\n",
    "seq = np.empty_like(arr)\n",
    "for stim in range(2):\n",
    "    seq[arr==stim] = my_dictionary[stim]\n",
    "seq"
   ]
  },
  {
   "cell_type": "markdown",
   "metadata": {},
   "source": [
    "## Quit MATLAB if needed"
   ]
  },
  {
   "cell_type": "code",
   "execution_count": 19,
   "metadata": {},
   "outputs": [],
   "source": [
    "# quit matlab\n",
    "if use_matlab:\n",
    "    m.exit()"
   ]
  }
 ],
 "metadata": {
  "kernelspec": {
   "display_name": "Python 3",
   "language": "python",
   "name": "python3"
  },
  "language_info": {
   "codemirror_mode": {
    "name": "ipython",
    "version": 3
   },
   "file_extension": ".py",
   "mimetype": "text/x-python",
   "name": "python",
   "nbconvert_exporter": "python",
   "pygments_lexer": "ipython3",
   "version": "3.9.12"
  },
  "orig_nbformat": 4
 },
 "nbformat": 4,
 "nbformat_minor": 2
}
